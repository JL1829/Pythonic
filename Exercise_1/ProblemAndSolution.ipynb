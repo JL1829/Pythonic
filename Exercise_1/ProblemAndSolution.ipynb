{
 "cells": [
  {
   "cell_type": "markdown",
   "metadata": {},
   "source": [
    "# Problem Statement\n",
    "\n",
    "Write a function that accespts `2` lists-of-lists of numbers and returns `1` list-of-lists with each of the corresponding numbers in the `2` given lists-of-lists added together\n",
    "\n",
    "**Example**\n",
    "\n",
    "```python\n",
    ">>> matrix1 = [[1, -2], [-3, 4]]\n",
    ">>> matrix2 = [[2, -1], [0, -1]]\n",
    ">>> add(matrix1, matrix2)\n",
    "[[3, -3], [-3, 3]]\n",
    "\n",
    ">>> matrix1 = [[1, -2, 3], [-4, 5, -6], [7, -8, 9]]\n",
    ">>> matrix2 = [[1, 1, 0], [1, -2, 3], [-2, 2, -2]]\n",
    ">>> add(matrix1, matrix2)\n",
    "[[2, -1, 3], [-3, 3, -3], [5, -6, 7]]\n",
    "```\n",
    "\n",
    "**Note**\n",
    "\n",
    "* **No 3rd parties packages allowed, (3rd parties packages: anything need additional install via `conda` or `pip`)**\n",
    "* **Try as Pythonic as much as possible**\n",
    "\n",
    "\n",
    "**Test Case (DO NOT MODIFY)**\n",
    "\n",
    "```python\n",
    "from copy import deepcopy\n",
    "import unittest\n",
    "\n",
    "class AddTests(unittest.TestCase):\n",
    "\n",
    "    \"\"\"Tests for add.\"\"\"\n",
    "\n",
    "    def test_single_items(self):\n",
    "        self.assertEqual(add([[5]], [[-2]]), [[3]])\n",
    "\n",
    "    def test_two_by_two_matrixes(self):\n",
    "        m1 = [[6, 6], [3, 1]]\n",
    "        m2 = [[1, 2], [3, 4]]\n",
    "        m3 = [[7, 8], [6, 5]]\n",
    "        self.assertEqual(add(m1, m2), m3)\n",
    "\n",
    "    def test_two_by_three_matrixes(self):\n",
    "        m1 = [[1, 2, 3], [4, 5, 6]]\n",
    "        m2 = [[-1, -2, -3], [-4, -5, -6]]\n",
    "        m3 = [[0, 0, 0], [0, 0, 0]]\n",
    "        self.assertEqual(add(m1, m2), m3)\n",
    "\n",
    "    def test_input_unchanged(self):\n",
    "        m1 = [[6, 6], [3, 1]]\n",
    "        m2 = [[1, 2], [3, 4]]\n",
    "        m1_original = deepcopy(m1)\n",
    "        m2_original = deepcopy(m2)\n",
    "        add(m1, m2)\n",
    "        self.assertEqual(m1, m1_original)\n",
    "        self.assertEqual(m2, m2_original)\n",
    "\n",
    "    # To test the Bonus part of this exercise, comment out the following line\n",
    "    @unittest.expectedFailure\n",
    "    def test_any_number_of_matrixes(self):\n",
    "        m1 = [[6, 6], [3, 1]]\n",
    "        m2 = [[1, 2], [3, 4]]\n",
    "        m3 = [[2, 1], [3, 4]]\n",
    "        m4 = [[9, 9], [9, 9]]\n",
    "        m5 = [[31, 32], [27, 24]]\n",
    "        self.assertEqual(add(m1, m2, m3), m4)\n",
    "        self.assertEqual(add(m2, m3, m1, m1, m2, m4, m1), m5)\n",
    "\n",
    "    # To test the Bonus part of this exercise, comment out the following line\n",
    "    @unittest.expectedFailure\n",
    "    def test_different_matrix_size(self):\n",
    "        m1 = [[6, 6], [3, 1]]\n",
    "        m2 = [[1, 2], [3, 4], [5, 6]]\n",
    "        m3 = [[6, 6], [3, 1, 2]]\n",
    "        with self.assertRaises(ValueError):\n",
    "            add(m1, m2)\n",
    "        with self.assertRaises(ValueError):\n",
    "            add(m1, m3)\n",
    "        with self.assertRaises(ValueError):\n",
    "            add(m1, m1, m1, m3, m1, m1)\n",
    "        with self.assertRaises(ValueError):\n",
    "            add(m1, m1, m1, m2, m1, m1)\n",
    "\n",
    "\n",
    "\n",
    "unittest.main(argv=['first-arg-is-ignored'], verbosity=2, exit=False)\n",
    "```\n",
    "***\n",
    "## Solution"
   ]
  },
  {
   "cell_type": "code",
   "execution_count": 1,
   "metadata": {},
   "outputs": [],
   "source": [
    "# for assertion purpose\n",
    "import numpy as np"
   ]
  },
  {
   "cell_type": "code",
   "execution_count": 2,
   "metadata": {},
   "outputs": [],
   "source": [
    "matrix1 = [[1, -2], [-3, 4]]\n",
    "matrix2 = [[2, -1], [0, -1]]"
   ]
  },
  {
   "cell_type": "code",
   "execution_count": 3,
   "metadata": {},
   "outputs": [
    {
     "data": {
      "text/plain": [
       "array([[ 3, -3],\n",
       "       [-3,  3]])"
      ]
     },
     "execution_count": 3,
     "metadata": {},
     "output_type": "execute_result"
    }
   ],
   "source": [
    "npMatrix1 = np.array(matrix1)\n",
    "npMatrix2 = np.array(matrix2)\n",
    "npMatrix1 + npMatrix2"
   ]
  },
  {
   "cell_type": "code",
   "execution_count": 6,
   "metadata": {},
   "outputs": [],
   "source": [
    "# very non-pythonic version:\n",
    "def add(matrix1:list, matrix2:list)->list:\n",
    "    \"\"\"Sumation for two 2-D matrix\"\"\"\n",
    "    result = list()\n",
    "    for rows in zip(matrix1, matrix2):\n",
    "        row = list()\n",
    "        for items in zip(rows[0], rows[1]):\n",
    "            row.append(items[0] + items[1])\n",
    "        result.append(row)\n",
    "    \n",
    "    return result"
   ]
  },
  {
   "cell_type": "code",
   "execution_count": 7,
   "metadata": {},
   "outputs": [
    {
     "data": {
      "text/plain": [
       "[[3, -3], [-3, 3]]"
      ]
     },
     "execution_count": 7,
     "metadata": {},
     "output_type": "execute_result"
    }
   ],
   "source": [
    "add(matrix1, matrix2)"
   ]
  },
  {
   "cell_type": "code",
   "execution_count": 8,
   "metadata": {},
   "outputs": [],
   "source": [
    "# delete function, prevent name overlapping\n",
    "del add"
   ]
  },
  {
   "cell_type": "code",
   "execution_count": 11,
   "metadata": {},
   "outputs": [],
   "source": [
    "# list-comphe in list-comphe, more pythonic\n",
    "def add(matrix1:list, matrix2:list)->list:\n",
    "    \"\"\"sumation for two 2-D matrix\"\"\"\n",
    "    result = [[items[0] + items[1] for items in zip(rows[0], rows[1])] for rows in zip(matrix1, matrix2)]\n",
    "    return result"
   ]
  },
  {
   "cell_type": "code",
   "execution_count": 12,
   "metadata": {},
   "outputs": [
    {
     "data": {
      "text/plain": [
       "[[3, -3], [-3, 3]]"
      ]
     },
     "execution_count": 12,
     "metadata": {},
     "output_type": "execute_result"
    }
   ],
   "source": [
    "add(matrix1, matrix2)"
   ]
  },
  {
   "cell_type": "code",
   "execution_count": 13,
   "metadata": {},
   "outputs": [],
   "source": [
    "# delete function, prevent name overlapping\n",
    "del add"
   ]
  },
  {
   "cell_type": "code",
   "execution_count": 14,
   "metadata": {},
   "outputs": [],
   "source": [
    "# using item[0][1] this kind of indexing still not that elegent\n",
    "# actually Python is smart enough to distingulish item in iterator. \n",
    "\n",
    "def add(matrix1:list, matrix2:list)->list:\n",
    "    \"\"\"sumation for two 2-D matrix\"\"\"\n",
    "    return [\n",
    "        [value1 + value2 for value1, value2 in zip(row1, row21)]\n",
    "        for row1, row21 in zip(matrix1, matrix2)\n",
    "    ]"
   ]
  },
  {
   "cell_type": "code",
   "execution_count": 15,
   "metadata": {},
   "outputs": [
    {
     "data": {
      "text/plain": [
       "[[3, -3], [-3, 3]]"
      ]
     },
     "execution_count": 15,
     "metadata": {},
     "output_type": "execute_result"
    }
   ],
   "source": [
    "add(matrix1, matrix2)"
   ]
  },
  {
   "cell_type": "code",
   "execution_count": 20,
   "metadata": {},
   "outputs": [
    {
     "name": "stderr",
     "output_type": "stream",
     "text": [
      "test_any_number_of_matrixes (__main__.AddTests) ... expected failure\n",
      "test_different_matrix_size (__main__.AddTests) ... expected failure\n",
      "test_input_unchanged (__main__.AddTests) ... ok\n",
      "test_single_items (__main__.AddTests) ... ok\n",
      "test_two_by_three_matrixes (__main__.AddTests) ... ok\n",
      "test_two_by_two_matrixes (__main__.AddTests) ... ok\n",
      "\n",
      "----------------------------------------------------------------------\n",
      "Ran 6 tests in 0.004s\n",
      "\n",
      "OK (expected failures=2)\n"
     ]
    },
    {
     "data": {
      "text/plain": [
       "<unittest.main.TestProgram at 0x7fbd59e3a2d0>"
      ]
     },
     "execution_count": 20,
     "metadata": {},
     "output_type": "execute_result"
    }
   ],
   "source": [
    "# test case\n",
    "from copy import deepcopy\n",
    "import unittest\n",
    "\n",
    "class AddTests(unittest.TestCase):\n",
    "\n",
    "    \"\"\"Tests for add.\"\"\"\n",
    "\n",
    "    def test_single_items(self):\n",
    "        self.assertEqual(add([[5]], [[-2]]), [[3]])\n",
    "\n",
    "    def test_two_by_two_matrixes(self):\n",
    "        m1 = [[6, 6], [3, 1]]\n",
    "        m2 = [[1, 2], [3, 4]]\n",
    "        m3 = [[7, 8], [6, 5]]\n",
    "        self.assertEqual(add(m1, m2), m3)\n",
    "\n",
    "    def test_two_by_three_matrixes(self):\n",
    "        m1 = [[1, 2, 3], [4, 5, 6]]\n",
    "        m2 = [[-1, -2, -3], [-4, -5, -6]]\n",
    "        m3 = [[0, 0, 0], [0, 0, 0]]\n",
    "        self.assertEqual(add(m1, m2), m3)\n",
    "\n",
    "    def test_input_unchanged(self):\n",
    "        m1 = [[6, 6], [3, 1]]\n",
    "        m2 = [[1, 2], [3, 4]]\n",
    "        m1_original = deepcopy(m1)\n",
    "        m2_original = deepcopy(m2)\n",
    "        add(m1, m2)\n",
    "        self.assertEqual(m1, m1_original)\n",
    "        self.assertEqual(m2, m2_original)\n",
    "\n",
    "    # To test the Bonus part of this exercise, comment out the following line\n",
    "    @unittest.expectedFailure\n",
    "    def test_any_number_of_matrixes(self):\n",
    "        m1 = [[6, 6], [3, 1]]\n",
    "        m2 = [[1, 2], [3, 4]]\n",
    "        m3 = [[2, 1], [3, 4]]\n",
    "        m4 = [[9, 9], [9, 9]]\n",
    "        m5 = [[31, 32], [27, 24]]\n",
    "        self.assertEqual(add(m1, m2, m3), m4)\n",
    "        self.assertEqual(add(m2, m3, m1, m1, m2, m4, m1), m5)\n",
    "\n",
    "    # To test the Bonus part of this exercise, comment out the following line\n",
    "    @unittest.expectedFailure\n",
    "    def test_different_matrix_size(self):\n",
    "        m1 = [[6, 6], [3, 1]]\n",
    "        m2 = [[1, 2], [3, 4], [5, 6]]\n",
    "        m3 = [[6, 6], [3, 1, 2]]\n",
    "        with self.assertRaises(ValueError):\n",
    "            add(m1, m2)\n",
    "        with self.assertRaises(ValueError):\n",
    "            add(m1, m3)\n",
    "        with self.assertRaises(ValueError):\n",
    "            add(m1, m1, m1, m3, m1, m1)\n",
    "        with self.assertRaises(ValueError):\n",
    "            add(m1, m1, m1, m2, m1, m1)\n",
    "\n",
    "unittest.main(argv=['first-arg-is-ignored'], verbosity=2, exit=False)"
   ]
  },
  {
   "cell_type": "markdown",
   "metadata": {},
   "source": [
    "# Bonus 1\n",
    "\n",
    "Based on the base question, modify the `add()` function to let it accept any number of lists-of-lists. \n",
    "\n",
    "**Example**\n",
    "\n",
    "```python\n",
    ">>> matrix1 = [[1, 9], [7, 3]]\n",
    ">>> matrix2 = [[5, -4], [3, 3]]\n",
    ">>> matrix3 = [[2, 3], [-3, 1]]\n",
    ">>> add(matrix1, matrix2, matrix3)\n",
    "[[8, 8], [7, 7]]\n",
    "```\n",
    "***\n",
    "## Solution"
   ]
  },
  {
   "cell_type": "code",
   "execution_count": 24,
   "metadata": {},
   "outputs": [],
   "source": [
    "matrix1 = [[1, 9], [7, 3]]\n",
    "matrix2 = [[5, -4], [3, 3]]\n",
    "matrix3 = [[2, 3], [-3, 1]]"
   ]
  },
  {
   "cell_type": "code",
   "execution_count": 22,
   "metadata": {},
   "outputs": [
    {
     "name": "stdout",
     "output_type": "stream",
     "text": [
      "([1, 9], [5, -4])\n",
      "([7, 3], [3, 3])\n"
     ]
    }
   ],
   "source": [
    "for row in zip(matrix1, matrix2):\n",
    "    print(row)"
   ]
  },
  {
   "cell_type": "code",
   "execution_count": 26,
   "metadata": {},
   "outputs": [],
   "source": [
    "def printAnyLength(*matrices):\n",
    "    for rows in zip(*matrices):\n",
    "        print(rows)\n",
    "        for value in zip(*row):\n",
    "            print(value)"
   ]
  },
  {
   "cell_type": "code",
   "execution_count": 27,
   "metadata": {},
   "outputs": [
    {
     "name": "stdout",
     "output_type": "stream",
     "text": [
      "([1, 9], [5, -4], [2, 3])\n",
      "(7, 3)\n",
      "(3, 3)\n",
      "([7, 3], [3, 3], [-3, 1])\n",
      "(7, 3)\n",
      "(3, 3)\n"
     ]
    }
   ],
   "source": [
    "printAnyLength(matrix1, matrix2, matrix3)"
   ]
  },
  {
   "cell_type": "code",
   "execution_count": null,
   "metadata": {},
   "outputs": [],
   "source": []
  },
  {
   "cell_type": "code",
   "execution_count": null,
   "metadata": {},
   "outputs": [],
   "source": []
  },
  {
   "cell_type": "code",
   "execution_count": null,
   "metadata": {},
   "outputs": [],
   "source": []
  },
  {
   "cell_type": "code",
   "execution_count": null,
   "metadata": {},
   "outputs": [],
   "source": []
  },
  {
   "cell_type": "markdown",
   "metadata": {},
   "source": [
    "# Bonus 2\n",
    "\n",
    "Based on the base question and `Bonus 1` question, modify the `add()` functionto throw a `ValueError` if the given lists-of-lists aren't the same shape. \n",
    "\n",
    "**Example**\n",
    "\n",
    "```python\n",
    ">>> add([[1, 9], [7, 3]], [[1, 2], [3]])\n",
    "Traceback (most recent call last):\n",
    "  File \"<stdin>\", line 1, in <module>\n",
    "  File \"add.py\", line 10, in add\n",
    "    raise ValueError(\"Given matrices are not the same size.\")\n",
    "ValueError: Given matrices are not the same size.\n",
    "```\n",
    "\n",
    "***\n",
    "## Solution"
   ]
  },
  {
   "cell_type": "code",
   "execution_count": null,
   "metadata": {},
   "outputs": [],
   "source": []
  },
  {
   "cell_type": "code",
   "execution_count": null,
   "metadata": {},
   "outputs": [],
   "source": []
  },
  {
   "cell_type": "markdown",
   "metadata": {},
   "source": [
    "# Bonus 3 and more\n",
    "\n",
    "Based on what we have done, write new function: `subtract`, `elementMultiply` to perform element-wise subtraction operation and element-wise multiplication of given lists-of-lists, same as `bonus 1` and `bonus 2`, able to accept any length of lists-of-lists, and throw `ValueError` if the shape is not the same. "
   ]
  },
  {
   "cell_type": "code",
   "execution_count": null,
   "metadata": {},
   "outputs": [],
   "source": []
  }
 ],
 "metadata": {
  "kernelspec": {
   "display_name": "Python 3",
   "language": "python",
   "name": "python3"
  },
  "language_info": {
   "codemirror_mode": {
    "name": "ipython",
    "version": 3
   },
   "file_extension": ".py",
   "mimetype": "text/x-python",
   "name": "python",
   "nbconvert_exporter": "python",
   "pygments_lexer": "ipython3",
   "version": "3.7.7"
  }
 },
 "nbformat": 4,
 "nbformat_minor": 2
}
