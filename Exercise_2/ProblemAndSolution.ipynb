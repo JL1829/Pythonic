{
 "cells": [
  {
   "cell_type": "markdown",
   "metadata": {},
   "source": [
    "# Problem Statement and Solution\n",
    "\n",
    "Make a class that represents a circle. \n",
    "\n",
    "The circle should have `radius`, a `diameter`, and an `area`. It should also have nice string representation. \n",
    "\n",
    "**For Example**\n",
    "\n",
    "```python\n",
    ">>> c = Circle(5)\n",
    ">>> c\n",
    "Circle(5)\n",
    ">>> c.radius\n",
    "5\n",
    ">>> c.diameter\n",
    "10\n",
    ">>> c.area\n",
    "78.53981633974483\n",
    "```\n",
    "\n",
    "Additionally the radius should default to $1$ if no `radius` is specified when you create your circle: \n",
    "\n",
    "```python\n",
    ">>> c = Circle()\n",
    ">>> c.radius\n",
    "1\n",
    ">>> c.diameter\n",
    "2\n",
    "```\n",
    "\n",
    "## Bonus 1\n",
    "\n",
    "Make sure when the `radius` of the Circle class changes that the `diameter` and `area` both change as well:\n",
    "```python\n",
    ">>> c = Circle(2)\n",
    ">>> c.radius\n",
    "2\n",
    ">>> c.diameter\n",
    "4\n",
    ">>> c.radius = 1\n",
    ">>> c.radius\n",
    "1\n",
    ">>> c.diameter\n",
    "2\n",
    ">>> c.area\n",
    "3.1415926\n",
    ">>> c\n",
    "Circle(1)\n",
    "```\n",
    "\n",
    "## Bonus 2\n",
    "\n",
    "Make sure you can set the `diameter` attribute in the class and the `radius` will update accordinly. Also make sure you cannot set the `area` and it will rasie `AttributeError`:\n",
    "```python\n",
    ">>> c = Circle(1)\n",
    ">>> c.diameter = 4\n",
    ">>> c.radius\n",
    "2.0\n",
    ">>> c.area = 45.678\n",
    "Traceback (most recent call last):\n",
    "  File \"<stdin>\", line 1, in <module>\n",
    "  File \"circle.py\", line 16, in radius\n",
    "AttributeError: can't set attribute\n",
    "```\n",
    "\n",
    "## Bonus 3\n",
    "\n",
    "Make sure your radius cannot set to negative number. You should raise `ValueError` exception with the error message `\"Radius cannot be negative\"`\n",
    "```python\n",
    ">>> c = Circle(5)\n",
    ">>> c.radius = 3\n",
    ">>> c.radius = -2\n",
    "Traceback (most recent call last):\n",
    "  File \"<stdin>\", line 1, in <module>\n",
    "  File \"circle.py\", line 27, in radius\n",
    "    raise ValueError(\"Radius cannot be negative\")\n",
    "ValueError: Radius cannot be negative\n",
    ">>> c = Circle (-10)\n",
    "Traceback (most recent call last):\n",
    "  File \"<stdin>\", line 1, in <module>\n",
    "  File \"circle.py\", line 27, in radius\n",
    "    raise ValueError(\"Radius cannot be negative\")\n",
    "ValueError: Radius cannot be negative\n",
    "```\n",
    "\n",
    "This means that `diameter` cannot set negative value either, and raise `ValueError` when setting it to negative value as well. \n",
    "\n",
    "***\n",
    "## Solution"
   ]
  },
  {
   "cell_type": "markdown",
   "metadata": {},
   "source": [
    "## Base Question\n"
   ]
  },
  {
   "cell_type": "code",
   "execution_count": 4,
   "metadata": {},
   "outputs": [],
   "source": [
    "import math\n",
    "\n",
    "class Circle:\n",
    "    \"\"\"docString PlaceHolder\"\"\"\n",
    "    \n",
    "    def __init__(self, radius=1):\n",
    "        self.radius = radius\n",
    "        self.diameter = self.radius * 2\n",
    "        self.area = math.pi * self.radius ** 2\n",
    "    \n",
    "    def __repr__(self):\n",
    "        return f\"Circle({self.radius})\""
   ]
  },
  {
   "cell_type": "code",
   "execution_count": 6,
   "metadata": {},
   "outputs": [
    {
     "name": "stdout",
     "output_type": "stream",
     "text": [
      "1\n",
      "2\n",
      "3.141592653589793\n",
      "Circle(1)\n"
     ]
    }
   ],
   "source": [
    "c = Circle()\n",
    "print(c.radius)\n",
    "print(c.diameter)\n",
    "print(c.area)\n",
    "print(c)"
   ]
  },
  {
   "cell_type": "markdown",
   "metadata": {},
   "source": [
    "## About String Representation\n",
    "\n",
    "[Reference](https://www.pythonmorsels.com/topics/string-representations/)\n",
    "\n",
    "There's two ways to put String Representation for your class: \n",
    "\n",
    "* `__str__` way\n",
    "* `__repr__` way\n",
    "\n",
    "By default, always use `__repr__` way, unless other situation, listed in the [Reference](https://www.pythonmorsels.com/topics/string-representations/)"
   ]
  },
  {
   "cell_type": "markdown",
   "metadata": {},
   "source": [
    "## Bonus 2\n",
    "\n",
    "Use `@property` decorator can achieve auto-update for the attributes. \n",
    "Please visit [this video](https://www.youtube.com/watch?v=jCzT9XFZ5bw&list=PL-osiE80TeTsqhIuOqKhwlXsIBIdSeYtc&index=7&t=0s)\n"
   ]
  },
  {
   "cell_type": "code",
   "execution_count": 7,
   "metadata": {},
   "outputs": [],
   "source": [
    "del c\n",
    "del Circle"
   ]
  },
  {
   "cell_type": "code",
   "execution_count": 8,
   "metadata": {},
   "outputs": [],
   "source": [
    "class Circle:\n",
    "    \"\"\"DocString PlaceHolder\"\"\"\n",
    "    \n",
    "    def __init__(self, radius=1):\n",
    "        self.radius = radius\n",
    "    \n",
    "    @property\n",
    "    def diameter(self):\n",
    "        return self.radius * 2\n",
    "    \n",
    "    @property\n",
    "    def area(self):\n",
    "        return math.pi * self.radius ** 2\n",
    "    \n",
    "    def __repr__(self):\n",
    "        return f\"Circle({self.radius})\"\n",
    "    "
   ]
  },
  {
   "cell_type": "code",
   "execution_count": 9,
   "metadata": {},
   "outputs": [
    {
     "name": "stdout",
     "output_type": "stream",
     "text": [
      "2\n",
      "4\n",
      "12.566370614359172\n",
      "Circle(2)\n"
     ]
    }
   ],
   "source": [
    "c = Circle(2)\n",
    "print(c.radius)\n",
    "print(c.diameter)\n",
    "print(c.area)\n",
    "print(c)"
   ]
  },
  {
   "cell_type": "code",
   "execution_count": 11,
   "metadata": {},
   "outputs": [
    {
     "name": "stdout",
     "output_type": "stream",
     "text": [
      "20\n",
      "314.1592653589793\n",
      "Circle(10)\n"
     ]
    }
   ],
   "source": [
    "c.radius = 10\n",
    "print(c.diameter)\n",
    "print(c.area)\n",
    "print(c)"
   ]
  },
  {
   "cell_type": "markdown",
   "metadata": {},
   "source": [
    "***\n",
    "## Bonus 3\n",
    "\n",
    "Why we cannot use `if else` to set `radius` to positive at the `__init__` and `@property` method:"
   ]
  },
  {
   "cell_type": "code",
   "execution_count": 1,
   "metadata": {},
   "outputs": [],
   "source": [
    "import math\n",
    "\n",
    "class Circle(object):\n",
    "\n",
    "    def __init__(self, radius=1):\n",
    "        if radius > 0:\n",
    "            self.radius = radius\n",
    "        else:\n",
    "            raise ValueError(\"Radius cannot be negative\")\n",
    "    \n",
    "    @property\n",
    "    def diameter(self):\n",
    "        return self.radius * 2\n",
    "    \n",
    "    @diameter.setter\n",
    "    def diameter(self, diameter):\n",
    "        if diameter > 0:\n",
    "            self.radius = diameter / 2\n",
    "        else:\n",
    "            raise ValueError(\"Radius cannot be negative.\")\n",
    "    \n",
    "    @property\n",
    "    def area(self):\n",
    "        return math.pi * self.radius ** 2\n",
    "    \n",
    "    def __repr__(self):\n",
    "        return f\"Circle({self.radius})\"\n"
   ]
  },
  {
   "cell_type": "code",
   "execution_count": 2,
   "metadata": {},
   "outputs": [
    {
     "data": {
      "text/plain": [
       "Circle(1)"
      ]
     },
     "execution_count": 2,
     "metadata": {},
     "output_type": "execute_result"
    }
   ],
   "source": [
    "c = Circle()\n",
    "c"
   ]
  },
  {
   "cell_type": "code",
   "execution_count": 3,
   "metadata": {
    "tags": []
   },
   "outputs": [
    {
     "name": "stdout",
     "output_type": "stream",
     "text": [
      "1\n",
      "2\n",
      "3.141592653589793\n"
     ]
    }
   ],
   "source": [
    "print(c.radius)\n",
    "print(c.diameter)\n",
    "print(c.area)"
   ]
  },
  {
   "cell_type": "code",
   "execution_count": 4,
   "metadata": {
    "tags": []
   },
   "outputs": [
    {
     "name": "stdout",
     "output_type": "stream",
     "text": [
      "2\n",
      "4\n",
      "12.566370614359172\n"
     ]
    }
   ],
   "source": [
    "c.radius = 2\n",
    "print(c.radius)\n",
    "print(c.diameter)\n",
    "print(c.area)"
   ]
  },
  {
   "cell_type": "code",
   "execution_count": 5,
   "metadata": {},
   "outputs": [],
   "source": [
    "c.radius = -1"
   ]
  },
  {
   "cell_type": "code",
   "execution_count": 6,
   "metadata": {},
   "outputs": [],
   "source": [
    "del c"
   ]
  },
  {
   "cell_type": "code",
   "execution_count": 7,
   "metadata": {},
   "outputs": [
    {
     "ename": "ValueError",
     "evalue": "Radius cannot be negative",
     "output_type": "error",
     "traceback": [
      "\u001b[0;31m---------------------------------------------------------------------------\u001b[0m",
      "\u001b[0;31mValueError\u001b[0m                                Traceback (most recent call last)",
      "\u001b[0;32m<ipython-input-7-4e1161b01f8e>\u001b[0m in \u001b[0;36m<module>\u001b[0;34m\u001b[0m\n\u001b[0;32m----> 1\u001b[0;31m \u001b[0mc\u001b[0m \u001b[0;34m=\u001b[0m \u001b[0mCircle\u001b[0m\u001b[0;34m(\u001b[0m\u001b[0;34m-\u001b[0m\u001b[0;36m1\u001b[0m\u001b[0;34m)\u001b[0m\u001b[0;34m\u001b[0m\u001b[0;34m\u001b[0m\u001b[0m\n\u001b[0m",
      "\u001b[0;32m<ipython-input-1-3c6d2fdebf10>\u001b[0m in \u001b[0;36m__init__\u001b[0;34m(self, radius)\u001b[0m\n\u001b[1;32m      7\u001b[0m             \u001b[0mself\u001b[0m\u001b[0;34m.\u001b[0m\u001b[0mradius\u001b[0m \u001b[0;34m=\u001b[0m \u001b[0mradius\u001b[0m\u001b[0;34m\u001b[0m\u001b[0;34m\u001b[0m\u001b[0m\n\u001b[1;32m      8\u001b[0m         \u001b[0;32melse\u001b[0m\u001b[0;34m:\u001b[0m\u001b[0;34m\u001b[0m\u001b[0;34m\u001b[0m\u001b[0m\n\u001b[0;32m----> 9\u001b[0;31m             \u001b[0;32mraise\u001b[0m \u001b[0mValueError\u001b[0m\u001b[0;34m(\u001b[0m\u001b[0;34m\"Radius cannot be negative\"\u001b[0m\u001b[0;34m)\u001b[0m\u001b[0;34m\u001b[0m\u001b[0;34m\u001b[0m\u001b[0m\n\u001b[0m\u001b[1;32m     10\u001b[0m \u001b[0;34m\u001b[0m\u001b[0m\n\u001b[1;32m     11\u001b[0m     \u001b[0;34m@\u001b[0m\u001b[0mproperty\u001b[0m\u001b[0;34m\u001b[0m\u001b[0;34m\u001b[0m\u001b[0m\n",
      "\u001b[0;31mValueError\u001b[0m: Radius cannot be negative"
     ]
    }
   ],
   "source": [
    "c = Circle(-1)"
   ]
  },
  {
   "cell_type": "markdown",
   "metadata": {},
   "source": [
    "The problem is, when we define the **negative** value for `radius` when we instance the `Circle()` it will raise the `ValueError`, but after we create the instance, then modify the `radius` to **negative** value, it won't, as once initialized, the instance won't touch the `__init__` method again. \n",
    "\n",
    "We change the idea, we can treat `radius` as one of the attributes, and use the `@property` decorator as well. "
   ]
  },
  {
   "cell_type": "code",
   "execution_count": 12,
   "metadata": {},
   "outputs": [],
   "source": [
    "del c\n",
    "del Circle"
   ]
  },
  {
   "cell_type": "code",
   "execution_count": 13,
   "metadata": {},
   "outputs": [],
   "source": [
    "class Circle:\n",
    "    \"\"\"DosString PlaceHolder\"\"\"\n",
    "    \n",
    "    def __init__(self, radius=1):\n",
    "        if radius > 0:\n",
    "            self.radius = radius\n",
    "        else:\n",
    "            raise ValueError('Radius cannot be negative')\n",
    "    \n",
    "    def __repr__(self):\n",
    "        return f\"Circle({self.radius})\"\n",
    "    \n",
    "    @property\n",
    "    def radius(self):\n",
    "        return self._radius\n",
    "    \n",
    "    @radius.setter\n",
    "    def radius(self, radius):\n",
    "        if radius > 0:\n",
    "            self._radius = radius\n",
    "        else:\n",
    "            raise ValueError('Radius cannot be negative')\n",
    "    \n",
    "    @property\n",
    "    def diameter(self):\n",
    "        return self.radius * 2\n",
    "    \n",
    "    @diameter.setter\n",
    "    def diameter(self, diameter):\n",
    "        self.radius = diameter / 2\n",
    "    \n",
    "    @property\n",
    "    def area(self):\n",
    "        return math.pi * self.radius ** 2\n",
    "    "
   ]
  },
  {
   "cell_type": "code",
   "execution_count": 14,
   "metadata": {},
   "outputs": [
    {
     "name": "stderr",
     "output_type": "stream",
     "text": [
      "test_area (__main__.CircleTests) ... ok\n",
      "test_default_radius (__main__.CircleTests) ... ok\n",
      "test_diameter (__main__.CircleTests) ... ok\n",
      "test_diameter_and_area_change_based_on_radius (__main__.CircleTests) ... ok\n",
      "test_diameter_changeable_but_area_not (__main__.CircleTests) ... ok\n",
      "test_no_negative_radius (__main__.CircleTests) ... ok\n",
      "test_radius (__main__.CircleTests) ... ok\n",
      "test_string_representation (__main__.CircleTests) ... ok\n",
      "\n",
      "----------------------------------------------------------------------\n",
      "Ran 8 tests in 0.005s\n",
      "\n",
      "OK\n"
     ]
    },
    {
     "data": {
      "text/plain": [
       "<unittest.main.TestProgram at 0x7fbade742450>"
      ]
     },
     "execution_count": 14,
     "metadata": {},
     "output_type": "execute_result"
    }
   ],
   "source": [
    "# test case\n",
    "import math\n",
    "import unittest\n",
    "\n",
    "class CircleTests(unittest.TestCase):\n",
    "\n",
    "    \"\"\"Tests for Circle.\"\"\"\n",
    "\n",
    "    def test_radius(self):\n",
    "        circle = Circle(5)\n",
    "        self.assertEqual(circle.radius, 5)\n",
    "\n",
    "    def test_default_radius(self):\n",
    "        circle = Circle()\n",
    "        self.assertEqual(circle.radius, 1)\n",
    "\n",
    "    def test_diameter(self):\n",
    "        circle = Circle(2)\n",
    "        self.assertEqual(circle.diameter, 4)\n",
    "\n",
    "    def test_area(self):\n",
    "        circle = Circle(2)\n",
    "        self.assertEqual(circle.area, math.pi * 4)\n",
    "        circle = Circle(1)\n",
    "        self.assertEqual(circle.area, math.pi)\n",
    "\n",
    "    def test_string_representation(self):\n",
    "        circle = Circle(2)\n",
    "        self.assertEqual(str(circle), 'Circle(2)')\n",
    "        self.assertEqual(repr(circle), 'Circle(2)')\n",
    "        circle.radius = 1\n",
    "        self.assertEqual(repr(circle), 'Circle(1)')\n",
    "\n",
    "    # To test the Bonus part of this exercise, comment out the following line\n",
    "    # @unittest.expectedFailure\n",
    "    def test_diameter_and_area_change_based_on_radius(self):\n",
    "        circle = Circle(2)\n",
    "        self.assertEqual(circle.diameter, 4)\n",
    "        circle.radius = 3\n",
    "        self.assertEqual(circle.diameter, 6)\n",
    "        self.assertEqual(circle.area, math.pi * 9)\n",
    "\n",
    "    # To test the Bonus part of this exercise, comment out the following line\n",
    "    # @unittest.expectedFailure\n",
    "    def test_diameter_changeable_but_area_not(self):\n",
    "        circle = Circle(2)\n",
    "        self.assertEqual(circle.diameter, 4)\n",
    "        self.assertEqual(circle.area, math.pi * 4)\n",
    "        circle.diameter = 3\n",
    "        self.assertEqual(circle.radius, 1.5)\n",
    "        with self.assertRaises(AttributeError):\n",
    "            circle.area = 3\n",
    "\n",
    "    # To test the Bonus part of this exercise, comment out the following line\n",
    "    # @unittest.expectedFailure\n",
    "    def test_no_negative_radius(self):\n",
    "        with self.assertRaises(ValueError) as context:\n",
    "            circle = Circle(-2)\n",
    "        self.assertEqual(\n",
    "            str(context.exception).lower(),\n",
    "            \"radius cannot be negative\",\n",
    "        )\n",
    "        circle = Circle(2)\n",
    "        with self.assertRaises(ValueError) as context:\n",
    "            circle.radius = -10\n",
    "        self.assertEqual(\n",
    "            str(context.exception).lower(),\n",
    "            \"radius cannot be negative\",\n",
    "        )\n",
    "        with self.assertRaises(ValueError):\n",
    "            circle.diameter = -20\n",
    "        self.assertEqual(circle.radius, 2)\n",
    "\n",
    "unittest.main(argv=['first-arg-is-ignored'], verbosity=2, exit=False)"
   ]
  },
  {
   "cell_type": "code",
   "execution_count": null,
   "metadata": {},
   "outputs": [],
   "source": []
  }
 ],
 "metadata": {
  "kernelspec": {
   "display_name": "Python 3.7.7 64-bit ('py377': conda)",
   "language": "python",
   "name": "python37764bitpy377conda2df17884e61a4d57b75c51e11651657f"
  },
  "language_info": {
   "codemirror_mode": {
    "name": "ipython",
    "version": 3
   },
   "file_extension": ".py",
   "mimetype": "text/x-python",
   "name": "python",
   "nbconvert_exporter": "python",
   "pygments_lexer": "ipython3",
   "version": "3.7.7"
  }
 },
 "nbformat": 4,
 "nbformat_minor": 2
}
